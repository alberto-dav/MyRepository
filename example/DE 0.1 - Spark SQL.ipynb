{
 "cells": [
  {
   "cell_type": "markdown",
   "metadata": {
    "application/vnd.databricks.v1+cell": {
     "cellMetadata": {},
     "inputWidgets": {},
     "nuid": "5c5c3794-6fc1-433f-a370-6771cb5cad8a",
     "showTitle": false,
     "title": ""
    }
   },
   "source": [
    "-sandbox\n",
    "\n",
    "<div style=\"text-align: center; line-height: 0; padding-top: 9px;\">\n",
    "  <img src=\"https://databricks.com/wp-content/uploads/2018/03/db-academy-rgb-1200px.png\" alt=\"Databricks Learning\" style=\"width: 600px\">\n",
    "</div>"
   ]
  },
  {
   "cell_type": "markdown",
   "metadata": {
    "application/vnd.databricks.v1+cell": {
     "cellMetadata": {},
     "inputWidgets": {},
     "nuid": "074400e4-64cb-4e96-97dc-1c38035ca385",
     "showTitle": false,
     "title": ""
    }
   },
   "source": [
    "# Spark SQL\n",
    "\n",
    "Demonstrate fundamental concepts in Spark SQL using the DataFrame API.\n",
    "\n",
    "##### Objectives\n",
    "1. Run a SQL query\n",
    "1. Create a DataFrame from a table\n",
    "1. Write the same query using DataFrame transformations\n",
    "1. Trigger computation with DataFrame actions\n",
    "1. Convert between DataFrames and SQL\n",
    "\n",
    "##### Methods\n",
    "- <a href=\"https://spark.apache.org/docs/latest/api/python/reference/pyspark.sql/spark_session.html\" target=\"_blank\">SparkSession</a>: **`sql`**, **`table`**\n",
    "- <a href=\"https://spark.apache.org/docs/latest/api/python/reference/pyspark.sql/dataframe.html\" target=\"_blank\">DataFrame</a>:\n",
    "  - Transformations:  **`select`**, **`where`**, **`orderBy`**\n",
    "  - Actions: **`show`**, **`count`**, **`take`**\n",
    "  - Other methods: **`printSchema`**, **`schema`**, **`createOrReplaceTempView`**"
   ]
  },
  {
   "cell_type": "code",
   "execution_count": 0,
   "metadata": {
    "application/vnd.databricks.v1+cell": {
     "cellMetadata": {},
     "inputWidgets": {},
     "nuid": "5539395f-ae61-4768-ad8f-925f19e41f92",
     "showTitle": false,
     "title": ""
    }
   },
   "outputs": [],
   "source": [
    "%run ../Includes/Classroom-Setup-00.1"
   ]
  },
  {
   "cell_type": "markdown",
   "metadata": {
    "application/vnd.databricks.v1+cell": {
     "cellMetadata": {},
     "inputWidgets": {},
     "nuid": "58eee746-e148-4c8c-972c-c2e284c7d77c",
     "showTitle": false,
     "title": ""
    }
   },
   "source": [
    "## Multiple Interfaces\n",
    "Spark SQL is a module for structured data processing with multiple interfaces.\n",
    "\n",
    "We can interact with Spark SQL in two ways:\n",
    "1. Executing SQL queries\n",
    "1. Working with the DataFrame API."
   ]
  },
  {
   "cell_type": "markdown",
   "metadata": {
    "application/vnd.databricks.v1+cell": {
     "cellMetadata": {},
     "inputWidgets": {},
     "nuid": "91f9bc21-ab09-4a6a-b510-4052061cd83a",
     "showTitle": false,
     "title": ""
    }
   },
   "source": [
    "**Method 1: Executing SQL queries**\n",
    "\n",
    "This is a basic SQL query."
   ]
  },
  {
   "cell_type": "code",
   "execution_count": 0,
   "metadata": {
    "application/vnd.databricks.v1+cell": {
     "cellMetadata": {},
     "inputWidgets": {},
     "nuid": "b7fe80f4-2c02-49f7-bbd4-740a4766c99c",
     "showTitle": false,
     "title": ""
    }
   },
   "outputs": [],
   "source": [
    "%sql\n",
    "SELECT name, price\n",
    "FROM products\n",
    "WHERE price < 200\n",
    "ORDER BY price"
   ]
  },
  {
   "cell_type": "markdown",
   "metadata": {
    "application/vnd.databricks.v1+cell": {
     "cellMetadata": {},
     "inputWidgets": {},
     "nuid": "d5120226-23e1-4932-aefb-8f89f90f767f",
     "showTitle": false,
     "title": ""
    }
   },
   "source": [
    "**Method 2: Working with the DataFrame API**\n",
    "\n",
    "We can also express Spark SQL queries using the DataFrame API.\n",
    "The following cell returns a DataFrame containing the same results as those retrieved above."
   ]
  },
  {
   "cell_type": "code",
   "execution_count": 0,
   "metadata": {
    "application/vnd.databricks.v1+cell": {
     "cellMetadata": {},
     "inputWidgets": {},
     "nuid": "a735ea2d-387a-4a43-a6de-2f65a1be5298",
     "showTitle": false,
     "title": ""
    }
   },
   "outputs": [],
   "source": [
    "display(spark\n",
    "        .table(\"products\")\n",
    "        .select(\"name\", \"price\")\n",
    "        .where(\"price < 200\")\n",
    "        .orderBy(\"price\")\n",
    "       )"
   ]
  },
  {
   "cell_type": "markdown",
   "metadata": {
    "application/vnd.databricks.v1+cell": {
     "cellMetadata": {},
     "inputWidgets": {},
     "nuid": "382fe2a6-4ed5-44bd-bfab-93ff37c22a8d",
     "showTitle": false,
     "title": ""
    }
   },
   "source": [
    "We'll go over the syntax for the DataFrame API later in the lesson, but you can see this builder design pattern allows us to chain a sequence of operations very similar to those we find in SQL."
   ]
  },
  {
   "cell_type": "markdown",
   "metadata": {
    "application/vnd.databricks.v1+cell": {
     "cellMetadata": {},
     "inputWidgets": {},
     "nuid": "a4b2be7b-e77a-4056-9071-e956a7ec792f",
     "showTitle": false,
     "title": ""
    }
   },
   "source": [
    "## Query Execution\n",
    "We can express the same query using any interface. The Spark SQL engine generates the same query plan used to optimize and execute on our Spark cluster.\n",
    "\n",
    "![query execution engine](https://files.training.databricks.com/images/aspwd/spark_sql_query_execution_engine.png)\n",
    "\n",
    "<img src=\"https://files.training.databricks.com/images/icon_note_32.png\" alt=\"Note\"> Resilient Distributed Datasets (RDDs) are the low-level representation of datasets processed by a Spark cluster. In early versions of Spark, you had to write <a href=\"https://spark.apache.org/docs/latest/rdd-programming-guide.html\" target=\"_blank\">code manipulating RDDs directly</a>. In modern versions of Spark you should instead use the higher-level DataFrame APIs, which Spark automatically compiles into low-level RDD operations."
   ]
  },
  {
   "cell_type": "markdown",
   "metadata": {
    "application/vnd.databricks.v1+cell": {
     "cellMetadata": {},
     "inputWidgets": {},
     "nuid": "f6744dc8-8839-4c82-a74d-4d62d065b2d9",
     "showTitle": false,
     "title": ""
    }
   },
   "source": [
    "## Spark API Documentation\n",
    "\n",
    "To learn how we work with DataFrames in Spark SQL, let's first look at the Spark API documentation.\n",
    "The main Spark <a href=\"https://spark.apache.org/docs/latest/\" target=\"_blank\">documentation</a> page includes links to API docs and helpful guides for each version of Spark.\n",
    "\n",
    "The <a href=\"https://spark.apache.org/docs/latest/api/scala/org/apache/spark/index.html\" target=\"_blank\">Scala API</a> and <a href=\"https://spark.apache.org/docs/latest/api/python/index.html\" target=\"_blank\">Python API</a> are most commonly used, and it's often helpful to reference the documentation for both languages.\n",
    "Scala docs tend to be more comprehensive, and Python docs tend to have more code examples.\n",
    "\n",
    "#### Navigating Docs for the Spark SQL Module\n",
    "Find the Spark SQL module by navigating to **`org.apache.spark.sql`** in the Scala API or **`pyspark.sql`** in the Python API.\n",
    "The first class we'll explore in this module is the **`SparkSession`** class. You can find this by entering \"SparkSession\" in the search bar."
   ]
  },
  {
   "cell_type": "markdown",
   "metadata": {
    "application/vnd.databricks.v1+cell": {
     "cellMetadata": {},
     "inputWidgets": {},
     "nuid": "8a63f9a5-aabf-45c8-85f0-8cbd5165e532",
     "showTitle": false,
     "title": ""
    }
   },
   "source": [
    "## SparkSession\n",
    "The **`SparkSession`** class is the single entry point to all functionality in Spark using the DataFrame API.\n",
    "\n",
    "In Databricks notebooks, the SparkSession is created for you, stored in a variable called **`spark`**."
   ]
  },
  {
   "cell_type": "code",
   "execution_count": 0,
   "metadata": {
    "application/vnd.databricks.v1+cell": {
     "cellMetadata": {},
     "inputWidgets": {},
     "nuid": "23493620-d6e4-43dc-92be-02e62b4a1567",
     "showTitle": false,
     "title": ""
    }
   },
   "outputs": [],
   "source": [
    "spark"
   ]
  },
  {
   "cell_type": "markdown",
   "metadata": {
    "application/vnd.databricks.v1+cell": {
     "cellMetadata": {},
     "inputWidgets": {},
     "nuid": "a7530250-77cc-4f05-a3e7-e32c84e9f41a",
     "showTitle": false,
     "title": ""
    }
   },
   "source": [
    "The example from the beginning of this lesson used the SparkSession method **`table`** to create a DataFrame from the **`products`** table. Let's save this in the variable **`products_df`**."
   ]
  },
  {
   "cell_type": "code",
   "execution_count": 0,
   "metadata": {
    "application/vnd.databricks.v1+cell": {
     "cellMetadata": {},
     "inputWidgets": {},
     "nuid": "a6c6fdbd-735c-4d6c-aeec-548534ee516e",
     "showTitle": false,
     "title": ""
    }
   },
   "outputs": [],
   "source": [
    "products_df = spark.table(\"products\")"
   ]
  },
  {
   "cell_type": "markdown",
   "metadata": {
    "application/vnd.databricks.v1+cell": {
     "cellMetadata": {},
     "inputWidgets": {},
     "nuid": "e6c32952-e563-4050-b095-8fc46c1f6102",
     "showTitle": false,
     "title": ""
    }
   },
   "source": [
    "Below are several additional methods we can use to create DataFrames. All of these can be found in the <a href=\"https://spark.apache.org/docs/latest/api/python/reference/api/pyspark.sql.SparkSession.html\" target=\"_blank\">documentation</a> for **`SparkSession`**.\n",
    "\n",
    "#### **`SparkSession`** Methods\n",
    "| Method | Description |\n",
    "| --- | --- |\n",
    "| sql | Returns a DataFrame representing the result of the given query |\n",
    "| table | Returns the specified table as a DataFrame |\n",
    "| read | Returns a DataFrameReader that can be used to read data in as a DataFrame |\n",
    "| range | Create a DataFrame with a column containing elements in a range from start to end (exclusive) with step value and number of partitions |\n",
    "| createDataFrame | Creates a DataFrame from a list of tuples, primarily used for testing |"
   ]
  },
  {
   "cell_type": "markdown",
   "metadata": {
    "application/vnd.databricks.v1+cell": {
     "cellMetadata": {},
     "inputWidgets": {},
     "nuid": "a0191bce-4d58-4942-96a3-feaa87ec2f99",
     "showTitle": false,
     "title": ""
    }
   },
   "source": [
    "Let's use a SparkSession method to run SQL."
   ]
  },
  {
   "cell_type": "code",
   "execution_count": 0,
   "metadata": {
    "application/vnd.databricks.v1+cell": {
     "cellMetadata": {},
     "inputWidgets": {},
     "nuid": "015f9e97-ed4a-42dc-8a53-ccea21197af2",
     "showTitle": false,
     "title": ""
    }
   },
   "outputs": [],
   "source": [
    "result_df = spark.sql(\"\"\"\n",
    "SELECT name, price\n",
    "FROM products\n",
    "WHERE price < 200\n",
    "ORDER BY price\n",
    "\"\"\")\n",
    "\n",
    "display(result_df)"
   ]
  },
  {
   "cell_type": "markdown",
   "metadata": {
    "application/vnd.databricks.v1+cell": {
     "cellMetadata": {},
     "inputWidgets": {},
     "nuid": "0501099d-93c3-4f23-8953-5ecf6528d1db",
     "showTitle": false,
     "title": ""
    }
   },
   "source": [
    "## DataFrames\n",
    "Recall that expressing our query using methods in the DataFrame API returns results in a DataFrame. Let's store this in the variable **`budget_df`**.\n",
    "\n",
    "A **DataFrame** is a distributed collection of data grouped into named columns."
   ]
  },
  {
   "cell_type": "code",
   "execution_count": 0,
   "metadata": {
    "application/vnd.databricks.v1+cell": {
     "cellMetadata": {},
     "inputWidgets": {},
     "nuid": "09bfb3cf-4c95-4594-9e42-78505df25631",
     "showTitle": false,
     "title": ""
    }
   },
   "outputs": [],
   "source": [
    "budget_df = (spark\n",
    "             .table(\"products\")\n",
    "             .select(\"name\", \"price\")\n",
    "             .where(\"price < 200\")\n",
    "             .orderBy(\"price\")\n",
    "            )"
   ]
  },
  {
   "cell_type": "markdown",
   "metadata": {
    "application/vnd.databricks.v1+cell": {
     "cellMetadata": {},
     "inputWidgets": {},
     "nuid": "20a734af-5f53-47d1-a6c7-aa729b875d1b",
     "showTitle": false,
     "title": ""
    }
   },
   "source": [
    "We can use **`display()`** to output the results of a dataframe."
   ]
  },
  {
   "cell_type": "code",
   "execution_count": 0,
   "metadata": {
    "application/vnd.databricks.v1+cell": {
     "cellMetadata": {},
     "inputWidgets": {},
     "nuid": "daf1eff3-775a-483e-b89b-e7e379a91e0d",
     "showTitle": false,
     "title": ""
    }
   },
   "outputs": [],
   "source": [
    "display(budget_df)"
   ]
  },
  {
   "cell_type": "markdown",
   "metadata": {
    "application/vnd.databricks.v1+cell": {
     "cellMetadata": {},
     "inputWidgets": {},
     "nuid": "c03c70d2-f3e8-4067-bb3e-4eb2102ffdce",
     "showTitle": false,
     "title": ""
    }
   },
   "source": [
    "The **schema** defines the column names and types of a dataframe.\n",
    "\n",
    "Access a dataframe's schema using the **`schema`** attribute."
   ]
  },
  {
   "cell_type": "code",
   "execution_count": 0,
   "metadata": {
    "application/vnd.databricks.v1+cell": {
     "cellMetadata": {},
     "inputWidgets": {},
     "nuid": "6a1d0f3c-2fee-4df2-b7f6-e54d9a28e256",
     "showTitle": false,
     "title": ""
    }
   },
   "outputs": [],
   "source": [
    "budget_df.schema"
   ]
  },
  {
   "cell_type": "markdown",
   "metadata": {
    "application/vnd.databricks.v1+cell": {
     "cellMetadata": {},
     "inputWidgets": {},
     "nuid": "d55392ba-bcbe-4453-81b1-12449b01297e",
     "showTitle": false,
     "title": ""
    }
   },
   "source": [
    "View a nicer output for this schema using the **`printSchema()`** method."
   ]
  },
  {
   "cell_type": "code",
   "execution_count": 0,
   "metadata": {
    "application/vnd.databricks.v1+cell": {
     "cellMetadata": {},
     "inputWidgets": {},
     "nuid": "3f8ed8d1-7001-45b1-9c23-34c52a032bd0",
     "showTitle": false,
     "title": ""
    }
   },
   "outputs": [],
   "source": [
    "budget_df.printSchema()"
   ]
  },
  {
   "cell_type": "markdown",
   "metadata": {
    "application/vnd.databricks.v1+cell": {
     "cellMetadata": {},
     "inputWidgets": {},
     "nuid": "88dbe34a-dbcc-472d-84d6-2edfcd8de0e6",
     "showTitle": false,
     "title": ""
    }
   },
   "source": [
    "## Transformations\n",
    "When we created **`budget_df`**, we used a series of DataFrame transformation methods e.g. **`select`**, **`where`**, **`orderBy`**.\n",
    "\n",
    "<strong><code>products_df  \n",
    "&nbsp;  .select(\"name\", \"price\")  \n",
    "&nbsp;  .where(\"price < 200\")  \n",
    "&nbsp;  .orderBy(\"price\")  \n",
    "</code></strong>\n",
    "    \n",
    "Transformations operate on and return DataFrames, allowing us to chain transformation methods together to construct new DataFrames.\n",
    "However, these operations can't execute on their own, as transformation methods are **lazily evaluated**.\n",
    "\n",
    "Running the following cell does not trigger any computation."
   ]
  },
  {
   "cell_type": "code",
   "execution_count": 0,
   "metadata": {
    "application/vnd.databricks.v1+cell": {
     "cellMetadata": {},
     "inputWidgets": {},
     "nuid": "93555b2a-477a-46ad-96b4-f0c059650367",
     "showTitle": false,
     "title": ""
    }
   },
   "outputs": [],
   "source": [
    "(products_df\n",
    "  .select(\"name\", \"price\")\n",
    "  .where(\"price < 200\")\n",
    "  .orderBy(\"price\"))"
   ]
  },
  {
   "cell_type": "markdown",
   "metadata": {
    "application/vnd.databricks.v1+cell": {
     "cellMetadata": {},
     "inputWidgets": {},
     "nuid": "6fcad6cc-4a06-48c9-a982-3438bd624371",
     "showTitle": false,
     "title": ""
    }
   },
   "source": [
    "## Actions\n",
    "Conversely, DataFrame actions are methods that **trigger computation**.\n",
    "Actions are needed to trigger the execution of any DataFrame transformations.\n",
    "\n",
    "The **`show`** action causes the following cell to execute transformations."
   ]
  },
  {
   "cell_type": "code",
   "execution_count": 0,
   "metadata": {
    "application/vnd.databricks.v1+cell": {
     "cellMetadata": {},
     "inputWidgets": {},
     "nuid": "2957d350-1fdd-42f3-85ac-46931b177ca8",
     "showTitle": false,
     "title": ""
    }
   },
   "outputs": [],
   "source": [
    "(products_df\n",
    "  .select(\"name\", \"price\")\n",
    "  .where(\"price < 200\")\n",
    "  .orderBy(\"price\")\n",
    "  .show())"
   ]
  },
  {
   "cell_type": "markdown",
   "metadata": {
    "application/vnd.databricks.v1+cell": {
     "cellMetadata": {},
     "inputWidgets": {},
     "nuid": "674ec784-2ecf-4be1-85c7-d61e74c7ac28",
     "showTitle": false,
     "title": ""
    }
   },
   "source": [
    "Below are several examples of <a href=\"https://spark.apache.org/docs/latest/api/python/reference/pyspark.sql.html#dataframe-apis\" target=\"_blank\">DataFrame</a> actions.\n",
    "\n",
    "### DataFrame Action Methods\n",
    "| Method | Description |\n",
    "| --- | --- |\n",
    "| show | Displays the top n rows of DataFrame in a tabular form |\n",
    "| count | Returns the number of rows in the DataFrame |\n",
    "| describe,  summary | Computes basic statistics for numeric and string columns |\n",
    "| first, head | Returns the the first row |\n",
    "| collect | Returns an array that contains all rows in this DataFrame |\n",
    "| take | Returns an array of the first n rows in the DataFrame |"
   ]
  },
  {
   "cell_type": "markdown",
   "metadata": {
    "application/vnd.databricks.v1+cell": {
     "cellMetadata": {},
     "inputWidgets": {},
     "nuid": "de2e033d-4eaf-497d-9cde-053f0f23eb68",
     "showTitle": false,
     "title": ""
    }
   },
   "source": [
    "**`count`** returns the number of records in a DataFrame."
   ]
  },
  {
   "cell_type": "code",
   "execution_count": 0,
   "metadata": {
    "application/vnd.databricks.v1+cell": {
     "cellMetadata": {},
     "inputWidgets": {},
     "nuid": "5d624849-93a7-47f9-b4ec-4757a32ceaac",
     "showTitle": false,
     "title": ""
    }
   },
   "outputs": [],
   "source": [
    "budget_df.count()"
   ]
  },
  {
   "cell_type": "markdown",
   "metadata": {
    "application/vnd.databricks.v1+cell": {
     "cellMetadata": {},
     "inputWidgets": {},
     "nuid": "f16c295a-c69d-4f25-a7fd-d4ef4c42ab18",
     "showTitle": false,
     "title": ""
    }
   },
   "source": [
    "**`collect`** returns an array of all rows in a DataFrame."
   ]
  },
  {
   "cell_type": "code",
   "execution_count": 0,
   "metadata": {
    "application/vnd.databricks.v1+cell": {
     "cellMetadata": {},
     "inputWidgets": {},
     "nuid": "0f9d5fff-3279-4112-9a9c-4dcc6d0b4ed1",
     "showTitle": false,
     "title": ""
    }
   },
   "outputs": [],
   "source": [
    "budget_df.collect()"
   ]
  },
  {
   "cell_type": "markdown",
   "metadata": {
    "application/vnd.databricks.v1+cell": {
     "cellMetadata": {},
     "inputWidgets": {},
     "nuid": "63c25733-0579-4fe0-bbfc-743a4bf08bbf",
     "showTitle": false,
     "title": ""
    }
   },
   "source": [
    "## Convert between DataFrames and SQL"
   ]
  },
  {
   "cell_type": "markdown",
   "metadata": {
    "application/vnd.databricks.v1+cell": {
     "cellMetadata": {},
     "inputWidgets": {},
     "nuid": "a13356a0-a6af-4eb6-a7c4-0c5bcce337e1",
     "showTitle": false,
     "title": ""
    }
   },
   "source": [
    "**`createOrReplaceTempView`** creates a temporary view based on the DataFrame. The lifetime of the temporary view is tied to the SparkSession that was used to create the DataFrame."
   ]
  },
  {
   "cell_type": "code",
   "execution_count": 0,
   "metadata": {
    "application/vnd.databricks.v1+cell": {
     "cellMetadata": {},
     "inputWidgets": {},
     "nuid": "7beb1cd2-ffd7-4dc3-953c-89d74849e983",
     "showTitle": false,
     "title": ""
    }
   },
   "outputs": [],
   "source": [
    "budget_df.createOrReplaceTempView(\"budget\")"
   ]
  },
  {
   "cell_type": "code",
   "execution_count": 0,
   "metadata": {
    "application/vnd.databricks.v1+cell": {
     "cellMetadata": {},
     "inputWidgets": {},
     "nuid": "43df7b58-bcc7-4713-a53b-303f9a2a2eb5",
     "showTitle": false,
     "title": ""
    }
   },
   "outputs": [],
   "source": [
    "display(spark.sql(\"SELECT * FROM budget\"))"
   ]
  },
  {
   "cell_type": "markdown",
   "metadata": {
    "application/vnd.databricks.v1+cell": {
     "cellMetadata": {},
     "inputWidgets": {},
     "nuid": "7497023a-6b2e-449a-8485-654b50ffc8a4",
     "showTitle": false,
     "title": ""
    }
   },
   "source": [
    "Run the following cell to delete the tables and files associated with this lesson."
   ]
  },
  {
   "cell_type": "code",
   "execution_count": 0,
   "metadata": {
    "application/vnd.databricks.v1+cell": {
     "cellMetadata": {},
     "inputWidgets": {},
     "nuid": "2a8577bc-85d2-412b-b046-cb3be4285bbd",
     "showTitle": false,
     "title": ""
    }
   },
   "outputs": [],
   "source": [
    "DA.cleanup()"
   ]
  },
  {
   "cell_type": "markdown",
   "metadata": {
    "application/vnd.databricks.v1+cell": {
     "cellMetadata": {},
     "inputWidgets": {},
     "nuid": "fc3ca8bc-0750-46c3-bba0-0482156d857c",
     "showTitle": false,
     "title": ""
    }
   },
   "source": [
    "-sandbox\n",
    "&copy; 2022 Databricks, Inc. All rights reserved.<br/>\n",
    "Apache, Apache Spark, Spark and the Spark logo are trademarks of the <a href=\"https://www.apache.org/\">Apache Software Foundation</a>.<br/>\n",
    "<br/>\n",
    "<a href=\"https://databricks.com/privacy-policy\">Privacy Policy</a> | <a href=\"https://databricks.com/terms-of-use\">Terms of Use</a> | <a href=\"https://help.databricks.com/\">Support</a>"
   ]
  }
 ],
 "metadata": {
  "application/vnd.databricks.v1+notebook": {
   "dashboards": [],
   "language": "python",
   "notebookMetadata": {
    "pythonIndentUnit": 2
   },
   "notebookName": "DE 0.1 - Spark SQL",
   "widgets": {}
  }
 },
 "nbformat": 4,
 "nbformat_minor": 0
}
